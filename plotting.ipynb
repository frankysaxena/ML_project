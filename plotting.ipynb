{
 "cells": [
  {
   "cell_type": "code",
   "execution_count": 1,
   "metadata": {
    "collapsed": false
   },
   "outputs": [
    {
     "name": "stderr",
     "output_type": "stream",
     "text": [
      "/usr/local/lib/python2.7/dist-packages/numpy/core/fromnumeric.py:2507: VisibleDeprecationWarning: `rank` is deprecated; use the `ndim` attribute or function instead. To find the rank of a matrix see `numpy.linalg.matrix_rank`.\n",
      "  VisibleDeprecationWarning)\n"
     ]
    }
   ],
   "source": [
    "import getting_features\n",
    "import numpy as np\n",
    "import matplotlib.pyplot as plt\n",
    "import matplotlib.cm as cm\n",
    "from matplotlib.mlab import PCA\n",
    "import matplotlib as mpl\n",
    "\n",
    "from numpy import *\n",
    "import pylab\n",
    "\n",
    "from sklearn import datasets\n",
    "from sklearn.decomposition import PCA\n",
    "from sklearn import decomposition\n",
    "from sklearn import datasets\n",
    "from sklearn.decomposition import PCA\n",
    "from sklearn.feature_extraction import DictVectorizer\n",
    "from sklearn.preprocessing import Imputer\n",
    "from sklearn.neighbors import KNeighborsClassifier\n",
    "from sklearn.cross_validation import train_test_split\n",
    "from sklearn import metrics\n",
    "from sklearn import cross_validation\n",
    "from sklearn import linear_model"
   ]
  },
  {
   "cell_type": "code",
   "execution_count": 2,
   "metadata": {
    "collapsed": false
   },
   "outputs": [],
   "source": [
    "features = np.loadtxt(\"features.dat\", unpack=True)\n",
    "response = np.loadtxt(\"response.dat\", unpack=True)"
   ]
  },
  {
   "cell_type": "code",
   "execution_count": 3,
   "metadata": {
    "collapsed": true
   },
   "outputs": [],
   "source": [
    "X = np.transpose(np.array(features))\n",
    "Y = np.array(response)"
   ]
  },
  {
   "cell_type": "code",
   "execution_count": 4,
   "metadata": {
    "collapsed": false,
    "scrolled": true
   },
   "outputs": [
    {
     "name": "stdout",
     "output_type": "stream",
     "text": [
      "(1378, 595)\n",
      "(1378,)\n"
     ]
    }
   ],
   "source": [
    "pca = PCA(n_components=2)\n",
    "X_r = pca.fit(X).transform(X)\n",
    "print X.shape\n",
    "print Y.shape"
   ]
  },
  {
   "cell_type": "code",
   "execution_count": 5,
   "metadata": {
    "collapsed": false,
    "scrolled": true
   },
   "outputs": [],
   "source": [
    "%matplotlib inline\n",
    "\n",
    "# plt.figure()\n",
    "# # , for x in Y use_colours[x[0]\n",
    "\n",
    "# plt.scatter(X_r[0:49, 0],X_r[0:49, 1], c='red', s =10) #banned\n",
    "# plt.scatter(X_r[50:99, 0],X_r[50:99, 1], c='blue', s =10) #unbanned\n",
    "\n",
    "# # plt.scatter(X_r[:, 0],X_r[:, 1], c=Y, s =200, cmap=mpl.cm.gray)\n",
    "\n",
    "# plt.title('PCA')\n",
    "# plt.gray()\n",
    "# plt.show()"
   ]
  },
  {
   "cell_type": "code",
   "execution_count": 6,
   "metadata": {
    "collapsed": false,
    "scrolled": true
   },
   "outputs": [],
   "source": [
    "# print Y\n",
    "X_train, X_test, Y_train, Y_test = train_test_split(X, Y, test_size = 0.5, random_state = 6)\n",
    "\n",
    "# knn = KNeighborsClassifier(n_neighbors=100)\n",
    "# knn.fit = (X_train, Y_train)\n",
    "# Y_pred = knn.predict(X_test)\n",
    "# print metrics.accuracy_score(Y_test, y_pred)\n",
    "# print len(X)\n",
    "\n",
    "# kf = cross_validation.KFold(len(X) , n_folds=2)\n",
    "\n",
    "# print len(kf)\n",
    "\n",
    "# print (kf)\n",
    "\n",
    "# for train_index, test_index in kf:\n",
    "#     print (\"TRAIN:\" , train_index, \"TEST:\", test_index)\n",
    "#     X_train, X_test  = X[train_index], X[test_index]\n",
    "#     Y_train, Y_test = Y[train_index], Y[test_index]\n"
   ]
  },
  {
   "cell_type": "code",
   "execution_count": 7,
   "metadata": {
    "collapsed": false
   },
   "outputs": [
    {
     "name": "stdout",
     "output_type": "stream",
     "text": [
      "[[244 108]\n",
      " [136 201]]\n"
     ]
    },
    {
     "data": {
      "image/png": "[encoded data removed]",
      "text/plain": [
       "<matplotlib.figure.Figure at 0x7f048878d510>"
      ]
     },
     "metadata": {},
     "output_type": "display_data"
    },
    {
     "name": "stdout",
     "output_type": "stream",
     "text": [
      "0.645863570392\n"
     ]
    }
   ],
   "source": [
    "from sklearn.metrics import confusion_matrix\n",
    "from sklearn.metrics import accuracy_score\n",
    "import pylab as pl\n",
    "\n",
    "logreg = linear_model.LogisticRegression(C = 1e5)\n",
    "logreg.fit(X_train, Y_train)\n",
    "\n",
    "\n",
    "Z = logreg.predict(X_test)\n",
    "\n",
    "labels = ['Unbanned' , 'Banned']\n",
    "\n",
    "cm = confusion_matrix(Y_test, Z)\n",
    "print(cm)\n",
    "fig = plt.figure()\n",
    "ax = fig.add_subplot(111)\n",
    "cax = ax.matshow(cm)\n",
    "fig.colorbar(cax)\n",
    "ax.set_xticklabels([''] + labels)\n",
    "ax.set_yticklabels([''] + labels)\n",
    "pl.xlabel('Predicted')\n",
    "pl.ylabel('True')\n",
    "pl.show()\n",
    "\n",
    "print accuracy_score(Y_test, Z, normalize=True)"
   ]
  },
  {
   "cell_type": "code",
   "execution_count": null,
   "metadata": {
    "collapsed": true
   },
   "outputs": [],
   "source": []
  }
 ],
 "metadata": {
  "kernelspec": {
   "display_name": "Python 2",
   "language": "python",
   "name": "python2"
  },
  "language_info": {
   "codemirror_mode": {
    "name": "ipython",
    "version": 2
   },
   "file_extension": ".py",
   "mimetype": "text/x-python",
   "name": "python",
   "nbconvert_exporter": "python",
   "pygments_lexer": "ipython2",
   "version": "2.7.6"
  }
 },
 "nbformat": 4,
 "nbformat_minor": 0
}
